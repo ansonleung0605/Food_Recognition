{
 "cells": [
  {
   "cell_type": "markdown",
   "metadata": {},
   "source": [
    "# Import Library"
   ]
  },
  {
   "cell_type": "code",
   "execution_count": 1,
   "metadata": {},
   "outputs": [],
   "source": [
    "#dependencies\n",
    "import warnings\n",
    "warnings.filterwarnings('ignore')\n",
    "\n",
    "import numpy\n",
    "import numpy as np\n",
    "np.random.seed(10)\n",
    "import matplotlib.pyplot as plt\n",
    "from keras.models import load_model\n",
    "import glob\n",
    "import cv2\n",
    "import os"
   ]
  },
  {
   "cell_type": "markdown",
   "metadata": {},
   "source": [
    "# Loading Data"
   ]
  },
  {
   "cell_type": "markdown",
   "metadata": {},
   "source": [
    "1. Data loading and exploration (10%): There are a total of 2,000 jpec pictures, in which 500 pictures are testing data and 1500 pictures are training data. Among the testing and training set, all pictures are evenly distributed into 5 categories, namely \"apple\", \"banana\", \"mango\", \"organge\" and \"strawberry\". All pictures have different dimensions so it may need to be resized later. "
   ]
  },
  {
   "cell_type": "code",
   "execution_count": 2,
   "metadata": {},
   "outputs": [],
   "source": [
    "fruitname =\"fruits/\"\n",
    "\n",
    "fruit_categories = [\"apple\", \"banana\", \"mango\", \"orange\", \"strawberry\"]"
   ]
  },
  {
   "cell_type": "code",
   "execution_count": 3,
   "metadata": {},
   "outputs": [],
   "source": [
    "def call_file(filetype):\n",
    "    file_list = []\n",
    "    label_list = []\n",
    "    x = 0\n",
    "    for fc in fruit_categories:\n",
    "        fruit_path = fruitname + filetype + \"/\"+ fc + \"/\"\n",
    "        \n",
    "        for f in os.listdir(fruit_path):\n",
    "            file_list += [fruit_path + f]\n",
    "            label_list.append(x)\n",
    "        x +=1 \n",
    "    print(fc)\n",
    "    return file_list, label_list"
   ]
  },
  {
   "cell_type": "code",
   "execution_count": 4,
   "metadata": {},
   "outputs": [
    {
     "name": "stdout",
     "output_type": "stream",
     "text": [
      "strawberry\n"
     ]
    }
   ],
   "source": [
    "fl, ll = call_file('test')"
   ]
  },
  {
   "cell_type": "code",
   "execution_count": 5,
   "metadata": {},
   "outputs": [
    {
     "data": {
      "text/plain": [
       "['fruits/test/apple/image_391.jpg',\n",
       " 'fruits/test/apple/image_385.jpg',\n",
       " 'fruits/test/apple/image_352.jpg',\n",
       " 'fruits/test/apple/image_420.jpg',\n",
       " 'fruits/test/apple/image_346.jpg']"
      ]
     },
     "execution_count": 5,
     "metadata": {},
     "output_type": "execute_result"
    }
   ],
   "source": [
    "fl[0:5]"
   ]
  },
  {
   "cell_type": "code",
   "execution_count": 6,
   "metadata": {},
   "outputs": [
    {
     "data": {
      "text/plain": [
       "[0, 0, 0, 0, 0]"
      ]
     },
     "execution_count": 6,
     "metadata": {},
     "output_type": "execute_result"
    }
   ],
   "source": [
    "ll[0:5]"
   ]
  },
  {
   "cell_type": "markdown",
   "metadata": {},
   "source": [
    "2. Data preprocessing (10%): The data are first read through using the cv2 library and resized to 96 X 96 dimensions. A function is set up to first read through the \"test\" file and later through the \"train\" file. After the files are read, it's converted to numpy arrays. After that, I adopted the data normalizing and one hot-coding to generate a convenient label for machine learning training in the later stage. "
   ]
  },
  {
   "cell_type": "code",
   "execution_count": 7,
   "metadata": {},
   "outputs": [
    {
     "name": "stdout",
     "output_type": "stream",
     "text": [
      "[[[133  61   1]\n",
      "  [136  63   1]\n",
      "  [141  66   0]\n",
      "  ...\n",
      "  [190 106   1]\n",
      "  [187 104   2]\n",
      "  [187 102   2]]\n",
      "\n",
      " [[135  62   1]\n",
      "  [139  65   1]\n",
      "  [144  67   0]\n",
      "  ...\n",
      "  [192 108   0]\n",
      "  [189 106   1]\n",
      "  [188 104   1]]\n",
      "\n",
      " [[139  65   1]\n",
      "  [144  67   1]\n",
      "  [147  69   1]\n",
      "  ...\n",
      "  [197 110   0]\n",
      "  [193 109   2]\n",
      "  [189 106   0]]\n",
      "\n",
      " ...\n",
      "\n",
      " [[ 15  28  19]\n",
      "  [140 102  27]\n",
      "  [ 81 110  92]\n",
      "  ...\n",
      "  [  3  22   1]\n",
      "  [ 77 115  46]\n",
      "  [ 89 133  61]]\n",
      "\n",
      " [[ 41  30  21]\n",
      "  [134  95  25]\n",
      "  [ 15  16  12]\n",
      "  ...\n",
      "  [  5  21   9]\n",
      "  [ 63 112  69]\n",
      "  [ 52  79  46]]\n",
      "\n",
      " [[129  87  29]\n",
      "  [ 24  28  13]\n",
      "  [ 11  16   9]\n",
      "  ...\n",
      "  [ 13  47  30]\n",
      "  [ 10  38  32]\n",
      "  [  7  16   4]]]\n"
     ]
    }
   ],
   "source": [
    "test_feature = []\n",
    "    \n",
    "for file in fl:\n",
    "    img = cv2.imread(file)\n",
    "    width = 96\n",
    "    height = 96\n",
    "    dim = (width, height)\n",
    "    resized = cv2.resize(img, dim, interpolation = cv2.INTER_AREA)\n",
    "    test_feature.append(resized)\n",
    "\n",
    "print(test_feature[7])\n"
   ]
  },
  {
   "cell_type": "code",
   "execution_count": 8,
   "metadata": {},
   "outputs": [
    {
     "name": "stdout",
     "output_type": "stream",
     "text": [
      "strawberry\n"
     ]
    }
   ],
   "source": [
    "fl1, ll1 = call_file('train')"
   ]
  },
  {
   "cell_type": "code",
   "execution_count": 9,
   "metadata": {},
   "outputs": [
    {
     "data": {
      "text/plain": [
       "['fruits/train/apple/image_193.jpg',\n",
       " 'fruits/train/apple/image_187.jpg',\n",
       " 'fruits/train/apple/image_178.jpg',\n",
       " 'fruits/train/apple/image_150.jpg',\n",
       " 'fruits/train/apple/image_15.jpg']"
      ]
     },
     "execution_count": 9,
     "metadata": {},
     "output_type": "execute_result"
    }
   ],
   "source": [
    "fl1[:5]"
   ]
  },
  {
   "cell_type": "code",
   "execution_count": 10,
   "metadata": {
    "scrolled": false
   },
   "outputs": [
    {
     "data": {
      "text/plain": [
       "[0, 0, 0, 0, 0]"
      ]
     },
     "execution_count": 10,
     "metadata": {},
     "output_type": "execute_result"
    }
   ],
   "source": [
    "ll1[:5]"
   ]
  },
  {
   "cell_type": "code",
   "execution_count": 11,
   "metadata": {},
   "outputs": [
    {
     "name": "stdout",
     "output_type": "stream",
     "text": [
      "[[[61 56 42]\n",
      "  [57 57 41]\n",
      "  [79 72 59]\n",
      "  ...\n",
      "  [35 88 78]\n",
      "  [40 96 88]\n",
      "  [38 95 83]]\n",
      "\n",
      " [[57 54 40]\n",
      "  [54 56 40]\n",
      "  [74 69 55]\n",
      "  ...\n",
      "  [41 87 77]\n",
      "  [36 87 79]\n",
      "  [36 89 78]]\n",
      "\n",
      " [[52 52 38]\n",
      "  [48 54 37]\n",
      "  [69 68 53]\n",
      "  ...\n",
      "  [40 74 64]\n",
      "  [46 88 81]\n",
      "  [44 92 81]]\n",
      "\n",
      " ...\n",
      "\n",
      " [[57 56 38]\n",
      "  [59 61 40]\n",
      "  [51 55 35]\n",
      "  ...\n",
      "  [47 44 37]\n",
      "  [47 49 37]\n",
      "  [46 52 35]]\n",
      "\n",
      " [[54 55 36]\n",
      "  [57 60 39]\n",
      "  [48 55 32]\n",
      "  ...\n",
      "  [50 48 41]\n",
      "  [50 53 41]\n",
      "  [44 53 35]]\n",
      "\n",
      " [[52 56 34]\n",
      "  [54 58 36]\n",
      "  [51 54 33]\n",
      "  ...\n",
      "  [52 53 43]\n",
      "  [53 57 43]\n",
      "  [47 55 37]]]\n"
     ]
    }
   ],
   "source": [
    "train_feature = []\n",
    "for tf in fl1:\n",
    "    img = cv2.imread(tf)\n",
    "    width = 96\n",
    "    height = 96\n",
    "    dim = (width, height)\n",
    "    resized = cv2.resize(img, dim, interpolation = cv2.INTER_AREA)\n",
    "    train_feature.append(resized)\n",
    "\n",
    "print(train_feature[17])"
   ]
  },
  {
   "cell_type": "code",
   "execution_count": 12,
   "metadata": {},
   "outputs": [],
   "source": [
    "x_img_test = numpy.array(test_feature)\n",
    "y_label_test = numpy.array(ll).reshape(500,)\n",
    "x_img_train = numpy.array(train_feature)\n",
    "y_label_train = numpy.array(ll1).reshape(1500,)"
   ]
  },
  {
   "cell_type": "code",
   "execution_count": 13,
   "metadata": {},
   "outputs": [
    {
     "data": {
      "text/plain": [
       "numpy.ndarray"
      ]
     },
     "execution_count": 13,
     "metadata": {},
     "output_type": "execute_result"
    }
   ],
   "source": [
    "type(y_label_test)"
   ]
  },
  {
   "cell_type": "code",
   "execution_count": 14,
   "metadata": {},
   "outputs": [
    {
     "name": "stdout",
     "output_type": "stream",
     "text": [
      "[0 0 0 0 0 0 0 0 0 0]\n"
     ]
    }
   ],
   "source": [
    "print(y_label_test[0:10])"
   ]
  },
  {
   "cell_type": "code",
   "execution_count": 15,
   "metadata": {},
   "outputs": [
    {
     "name": "stdout",
     "output_type": "stream",
     "text": [
      "train data: images: (1500, 96, 96, 3)  labels: (1500,)\n",
      "test  data: images: (500, 96, 96, 3)  labels: (500,)\n"
     ]
    }
   ],
   "source": [
    "print(\"train data:\",'images:',x_img_train.shape,\n",
    "      \" labels:\",y_label_train.shape) \n",
    "print(\"test  data:\",'images:',x_img_test.shape ,\n",
    "      \" labels:\",y_label_test.shape) "
   ]
  },
  {
   "cell_type": "code",
   "execution_count": 16,
   "metadata": {},
   "outputs": [],
   "source": [
    "x_img_train_normalize = x_img_train.astype('float32') / 255.0\n",
    "x_img_test_normalize = x_img_test.astype('float32') / 255.0"
   ]
  },
  {
   "cell_type": "code",
   "execution_count": 17,
   "metadata": {},
   "outputs": [],
   "source": [
    "from keras.utils import np_utils\n",
    "y_label_train_OneHot = np_utils.to_categorical(y_label_train)\n",
    "y_label_test_OneHot = np_utils.to_categorical(y_label_test)"
   ]
  },
  {
   "cell_type": "code",
   "execution_count": 18,
   "metadata": {},
   "outputs": [
    {
     "data": {
      "text/plain": [
       "(500, 5)"
      ]
     },
     "execution_count": 18,
     "metadata": {},
     "output_type": "execute_result"
    }
   ],
   "source": [
    "y_label_test_OneHot.shape"
   ]
  },
  {
   "cell_type": "markdown",
   "metadata": {},
   "source": [
    "# Build the Model"
   ]
  },
  {
   "cell_type": "markdown",
   "metadata": {},
   "source": [
    "3.\tSelected model (10%): I adopt the tensor/keras model to train the data. The model has 1 convulutional layer and 1 fully connected layer. To avoid overfitting and improve the accuracy of my model, I apply a dropout rate of 25% on each layer. "
   ]
  },
  {
   "cell_type": "code",
   "execution_count": 19,
   "metadata": {},
   "outputs": [],
   "source": [
    "from keras.models import Sequential\n",
    "from keras.layers import Dense, Dropout, Activation, Flatten\n",
    "from keras.layers import Conv2D, MaxPooling2D"
   ]
  },
  {
   "cell_type": "code",
   "execution_count": 20,
   "metadata": {},
   "outputs": [],
   "source": [
    "model = Sequential()"
   ]
  },
  {
   "cell_type": "code",
   "execution_count": 21,
   "metadata": {},
   "outputs": [],
   "source": [
    "model.add(Conv2D(filters=96,kernel_size=(3,3),\n",
    "                 input_shape=(96, 96,3), \n",
    "                 activation='relu', padding='same'))\n",
    "\n",
    "model.add(Dropout(rate=0.25))\n",
    "\n",
    "model.add(MaxPooling2D(pool_size=(2, 2)))"
   ]
  },
  {
   "cell_type": "code",
   "execution_count": 22,
   "metadata": {},
   "outputs": [],
   "source": [
    "model.add(Flatten())\n",
    "model.add(Dropout(rate=0.25))\n",
    "\n",
    "model.add(Dense(1024, activation='relu'))\n",
    "model.add(Dropout(rate=0.25))\n",
    "\n",
    "\n",
    "model.add(Dense(5, activation='softmax'))"
   ]
  },
  {
   "cell_type": "code",
   "execution_count": 23,
   "metadata": {},
   "outputs": [
    {
     "name": "stdout",
     "output_type": "stream",
     "text": [
      "Model: \"sequential\"\n",
      "_________________________________________________________________\n",
      "Layer (type)                 Output Shape              Param #   \n",
      "=================================================================\n",
      "conv2d (Conv2D)              (None, 96, 96, 96)        2688      \n",
      "_________________________________________________________________\n",
      "dropout (Dropout)            (None, 96, 96, 96)        0         \n",
      "_________________________________________________________________\n",
      "max_pooling2d (MaxPooling2D) (None, 48, 48, 96)        0         \n",
      "_________________________________________________________________\n",
      "flatten (Flatten)            (None, 221184)            0         \n",
      "_________________________________________________________________\n",
      "dropout_1 (Dropout)          (None, 221184)            0         \n",
      "_________________________________________________________________\n",
      "dense (Dense)                (None, 1024)              226493440 \n",
      "_________________________________________________________________\n",
      "dropout_2 (Dropout)          (None, 1024)              0         \n",
      "_________________________________________________________________\n",
      "dense_1 (Dense)              (None, 5)                 5125      \n",
      "=================================================================\n",
      "Total params: 226,501,253\n",
      "Trainable params: 226,501,253\n",
      "Non-trainable params: 0\n",
      "_________________________________________________________________\n",
      "None\n"
     ]
    }
   ],
   "source": [
    "print(model.summary())"
   ]
  },
  {
   "cell_type": "markdown",
   "metadata": {},
   "source": [
    "# Train Model"
   ]
  },
  {
   "cell_type": "code",
   "execution_count": 24,
   "metadata": {},
   "outputs": [],
   "source": [
    "model.compile(loss='categorical_crossentropy',\n",
    "              optimizer='adam', metrics=['accuracy'])"
   ]
  },
  {
   "cell_type": "code",
   "execution_count": 25,
   "metadata": {},
   "outputs": [
    {
     "data": {
      "text/plain": [
       "array([[[[1.        , 1.        , 1.        ],\n",
       "         [1.        , 1.        , 1.        ],\n",
       "         [1.        , 1.        , 1.        ],\n",
       "         ...,\n",
       "         [1.        , 1.        , 1.        ],\n",
       "         [1.        , 1.        , 1.        ],\n",
       "         [1.        , 1.        , 1.        ]],\n",
       "\n",
       "        [[1.        , 1.        , 1.        ],\n",
       "         [1.        , 1.        , 1.        ],\n",
       "         [0.98039216, 0.98039216, 0.98039216],\n",
       "         ...,\n",
       "         [1.        , 1.        , 1.        ],\n",
       "         [1.        , 1.        , 1.        ],\n",
       "         [1.        , 1.        , 1.        ]],\n",
       "\n",
       "        [[0.8235294 , 0.8235294 , 0.8156863 ],\n",
       "         [0.64705884, 0.65882355, 0.6313726 ],\n",
       "         [0.45882353, 0.47843137, 0.4392157 ],\n",
       "         ...,\n",
       "         [1.        , 1.        , 1.        ],\n",
       "         [1.        , 1.        , 1.        ],\n",
       "         [0.9607843 , 0.9607843 , 0.9607843 ]],\n",
       "\n",
       "        ...,\n",
       "\n",
       "        [[1.        , 1.        , 1.        ],\n",
       "         [1.        , 1.        , 1.        ],\n",
       "         [1.        , 1.        , 1.        ],\n",
       "         ...,\n",
       "         [1.        , 1.        , 1.        ],\n",
       "         [1.        , 1.        , 1.        ],\n",
       "         [1.        , 1.        , 1.        ]],\n",
       "\n",
       "        [[1.        , 1.        , 1.        ],\n",
       "         [1.        , 1.        , 1.        ],\n",
       "         [1.        , 1.        , 1.        ],\n",
       "         ...,\n",
       "         [1.        , 1.        , 1.        ],\n",
       "         [1.        , 1.        , 1.        ],\n",
       "         [1.        , 1.        , 1.        ]],\n",
       "\n",
       "        [[1.        , 1.        , 1.        ],\n",
       "         [1.        , 1.        , 1.        ],\n",
       "         [1.        , 1.        , 1.        ],\n",
       "         ...,\n",
       "         [1.        , 1.        , 1.        ],\n",
       "         [1.        , 1.        , 1.        ],\n",
       "         [1.        , 1.        , 1.        ]]]], dtype=float32)"
      ]
     },
     "execution_count": 25,
     "metadata": {},
     "output_type": "execute_result"
    }
   ],
   "source": [
    "x_img_train_normalize[:1]"
   ]
  },
  {
   "cell_type": "code",
   "execution_count": 26,
   "metadata": {},
   "outputs": [
    {
     "data": {
      "text/plain": [
       "array([[1., 0., 0., 0., 0.],\n",
       "       [1., 0., 0., 0., 0.],\n",
       "       [1., 0., 0., 0., 0.],\n",
       "       [1., 0., 0., 0., 0.],\n",
       "       [1., 0., 0., 0., 0.]], dtype=float32)"
      ]
     },
     "execution_count": 26,
     "metadata": {},
     "output_type": "execute_result"
    }
   ],
   "source": [
    "y_label_train_OneHot[:5]"
   ]
  },
  {
   "cell_type": "markdown",
   "metadata": {},
   "source": [
    "# Training the model"
   ]
  },
  {
   "cell_type": "markdown",
   "metadata": {},
   "source": [
    "4.\tDeep Learning Modeling (30%): I train the model with 15 epochs, 20% validation split and 128 batch size. After 15 times of training, the model has reached the accuracy of nearly 0.98"
   ]
  },
  {
   "cell_type": "code",
   "execution_count": 27,
   "metadata": {},
   "outputs": [
    {
     "name": "stdout",
     "output_type": "stream",
     "text": [
      "Epoch 1/15\n",
      "10/10 [==============================] - 35s 4s/step - loss: 48.5252 - accuracy: 0.2450 - val_loss: 61.6024 - val_accuracy: 0.0000e+00\n",
      "Epoch 2/15\n",
      "10/10 [==============================] - 32s 3s/step - loss: 5.3376 - accuracy: 0.2717 - val_loss: 8.3599 - val_accuracy: 0.0000e+00\n",
      "Epoch 3/15\n",
      "10/10 [==============================] - 34s 3s/step - loss: 1.4077 - accuracy: 0.3608 - val_loss: 4.0061 - val_accuracy: 0.0000e+00\n",
      "Epoch 4/15\n",
      "10/10 [==============================] - 37s 4s/step - loss: 1.2427 - accuracy: 0.4450 - val_loss: 10.3953 - val_accuracy: 0.0000e+00\n",
      "Epoch 5/15\n",
      "10/10 [==============================] - 33s 3s/step - loss: 1.0521 - accuracy: 0.5817 - val_loss: 10.8292 - val_accuracy: 0.0000e+00\n",
      "Epoch 6/15\n",
      "10/10 [==============================] - 35s 3s/step - loss: 0.8150 - accuracy: 0.7150 - val_loss: 15.4955 - val_accuracy: 0.0000e+00\n",
      "Epoch 7/15\n",
      "10/10 [==============================] - 35s 3s/step - loss: 0.5799 - accuracy: 0.8117 - val_loss: 19.2047 - val_accuracy: 0.0000e+00\n",
      "Epoch 8/15\n",
      "10/10 [==============================] - 44s 4s/step - loss: 0.4096 - accuracy: 0.8867 - val_loss: 19.1069 - val_accuracy: 0.0000e+00\n",
      "Epoch 9/15\n",
      "10/10 [==============================] - 32s 3s/step - loss: 0.3130 - accuracy: 0.9242 - val_loss: 20.4920 - val_accuracy: 0.0000e+00\n",
      "Epoch 10/15\n",
      "10/10 [==============================] - 31s 3s/step - loss: 0.1814 - accuracy: 0.9725 - val_loss: 23.5769 - val_accuracy: 0.0000e+00\n",
      "Epoch 11/15\n",
      "10/10 [==============================] - 33s 3s/step - loss: 0.1400 - accuracy: 0.9783 - val_loss: 22.1445 - val_accuracy: 0.0000e+00\n",
      "Epoch 12/15\n",
      "10/10 [==============================] - 34s 3s/step - loss: 0.1009 - accuracy: 0.9875 - val_loss: 24.3791 - val_accuracy: 0.0000e+00\n",
      "Epoch 13/15\n",
      "10/10 [==============================] - 32s 3s/step - loss: 0.0661 - accuracy: 0.9883 - val_loss: 25.4373 - val_accuracy: 0.0000e+00\n",
      "Epoch 14/15\n",
      "10/10 [==============================] - 33s 3s/step - loss: 0.0402 - accuracy: 0.9975 - val_loss: 27.4223 - val_accuracy: 0.0000e+00\n",
      "Epoch 15/15\n",
      "10/10 [==============================] - 36s 4s/step - loss: 0.0324 - accuracy: 0.9967 - val_loss: 24.8742 - val_accuracy: 0.0000e+00\n"
     ]
    }
   ],
   "source": [
    "train_history= model.fit(x_img_train_normalize, y_label_train_OneHot, validation_split=0.2, epochs=15, batch_size=128, verbose=1)   "
   ]
  },
  {
   "cell_type": "code",
   "execution_count": 48,
   "metadata": {},
   "outputs": [],
   "source": [
    "import matplotlib.pyplot as plt\n",
    "def show_train_history(train_acc, test_acc):\n",
    "    plt.plot(train_history.history[train_acc])\n",
    "    plt.plot(train_history.history[test_acc])\n",
    "    plt.title('Train History')\n",
    "    plt.ylabel('Accuracy')\n",
    "    plt.xlabel('Epoch')\n",
    "    plt.legend(['train', 'test'], loc='upper left')\n",
    "    plt.show()"
   ]
  },
  {
   "cell_type": "code",
   "execution_count": 49,
   "metadata": {
    "scrolled": true
   },
   "outputs": [
    {
     "data": {
      "image/png": "[encoded data removed]",
      "text/plain": [
       "<Figure size 432x288 with 1 Axes>"
      ]
     },
     "metadata": {
      "needs_background": "light"
     },
     "output_type": "display_data"
    }
   ],
   "source": [
    "show_train_history('accuracy','val_accuracy')"
   ]
  },
  {
   "cell_type": "code",
   "execution_count": 50,
   "metadata": {},
   "outputs": [
    {
     "data": {
      "image/png": "[encoded data removed]",
      "text/plain": [
       "<Figure size 432x288 with 1 Axes>"
      ]
     },
     "metadata": {
      "needs_background": "light"
     },
     "output_type": "display_data"
    }
   ],
   "source": [
    "show_train_history('loss','val_loss')"
   ]
  },
  {
   "cell_type": "code",
   "execution_count": 51,
   "metadata": {},
   "outputs": [
    {
     "data": {
      "text/plain": [
       "0.4440000057220459"
      ]
     },
     "execution_count": 51,
     "metadata": {},
     "output_type": "execute_result"
    }
   ],
   "source": [
    "scores = model.evaluate(x_img_test_normalize, \n",
    "                        y_label_test_OneHot, verbose=0)\n",
    "scores[1]"
   ]
  },
  {
   "cell_type": "code",
   "execution_count": 79,
   "metadata": {},
   "outputs": [
    {
     "data": {
      "text/plain": [
       "0.800000011920929"
      ]
     },
     "execution_count": 79,
     "metadata": {},
     "output_type": "execute_result"
    }
   ],
   "source": [
    "scores2 = model.evaluate(x_img_train_normalize, \n",
    "                        y_label_train_OneHot, verbose=0)\n",
    "scores2[1]"
   ]
  },
  {
   "cell_type": "code",
   "execution_count": 52,
   "metadata": {},
   "outputs": [
    {
     "name": "stdout",
     "output_type": "stream",
     "text": [
      "Saved model to disk\n"
     ]
    }
   ],
   "source": [
    "model.save(\"fruit_project.h5\")\n",
    "print(\"Saved model to disk\")"
   ]
  },
  {
   "cell_type": "code",
   "execution_count": 54,
   "metadata": {},
   "outputs": [],
   "source": [
    "from keras.models import load_model\n",
    "model = load_model('fruit_project.h5')"
   ]
  },
  {
   "cell_type": "code",
   "execution_count": 55,
   "metadata": {},
   "outputs": [],
   "source": [
    "prediction = model.predict_classes(x_img_test_normalize)"
   ]
  },
  {
   "cell_type": "code",
   "execution_count": 56,
   "metadata": {},
   "outputs": [
    {
     "data": {
      "text/plain": [
       "array([0, 0, 0, 3, 0, 0, 1, 3, 0, 0])"
      ]
     },
     "execution_count": 56,
     "metadata": {},
     "output_type": "execute_result"
    }
   ],
   "source": [
    "prediction[:10]"
   ]
  },
  {
   "cell_type": "code",
   "execution_count": 71,
   "metadata": {},
   "outputs": [
    {
     "name": "stdout",
     "output_type": "stream",
     "text": [
      "{0: 'apple', 1: 'banana', 2: 'mango', 3: 'orange', 4: 'strawberry'}\n"
     ]
    }
   ],
   "source": [
    "label_dict={0:\"apple\",1:\"banana\",2:\"mango\",3:\"orange\",4:\"strawberry\"}\n",
    "print(label_dict)"
   ]
  },
  {
   "cell_type": "markdown",
   "metadata": {},
   "source": [
    "# Import and prediction of New images"
   ]
  },
  {
   "cell_type": "code",
   "execution_count": 59,
   "metadata": {},
   "outputs": [
    {
     "name": "stdout",
     "output_type": "stream",
     "text": [
      "strawberry\n"
     ]
    }
   ],
   "source": [
    "fl2, ll2 = call_file('new')"
   ]
  },
  {
   "cell_type": "code",
   "execution_count": 60,
   "metadata": {},
   "outputs": [
    {
     "data": {
      "text/plain": [
       "['fruits/new/apple/apple.jpg',\n",
       " 'fruits/new/banana/banana.jpg',\n",
       " 'fruits/new/mango/mango.jpg',\n",
       " 'fruits/new/orange/orange.jpg',\n",
       " 'fruits/new/strawberry/strawberry.jpg']"
      ]
     },
     "execution_count": 60,
     "metadata": {},
     "output_type": "execute_result"
    }
   ],
   "source": [
    "fl2[:5]"
   ]
  },
  {
   "cell_type": "code",
   "execution_count": 61,
   "metadata": {},
   "outputs": [
    {
     "data": {
      "text/plain": [
       "[0, 1, 2, 3, 4]"
      ]
     },
     "execution_count": 61,
     "metadata": {},
     "output_type": "execute_result"
    }
   ],
   "source": [
    "ll2"
   ]
  },
  {
   "cell_type": "code",
   "execution_count": 62,
   "metadata": {},
   "outputs": [
    {
     "name": "stdout",
     "output_type": "stream",
     "text": [
      "[[[240 250 250]\n",
      "  [240 250 250]\n",
      "  [240 250 250]\n",
      "  ...\n",
      "  [240 250 250]\n",
      "  [240 250 250]\n",
      "  [240 250 250]]\n",
      "\n",
      " [[240 250 250]\n",
      "  [240 250 250]\n",
      "  [240 250 250]\n",
      "  ...\n",
      "  [240 250 250]\n",
      "  [240 250 250]\n",
      "  [240 250 250]]\n",
      "\n",
      " [[240 250 250]\n",
      "  [240 250 250]\n",
      "  [240 250 250]\n",
      "  ...\n",
      "  [240 250 250]\n",
      "  [240 250 250]\n",
      "  [240 250 250]]\n",
      "\n",
      " ...\n",
      "\n",
      " [[240 250 250]\n",
      "  [240 250 250]\n",
      "  [240 250 250]\n",
      "  ...\n",
      "  [240 250 250]\n",
      "  [240 250 250]\n",
      "  [240 250 250]]\n",
      "\n",
      " [[240 250 250]\n",
      "  [240 250 250]\n",
      "  [240 250 250]\n",
      "  ...\n",
      "  [240 250 250]\n",
      "  [240 250 250]\n",
      "  [240 250 250]]\n",
      "\n",
      " [[240 250 250]\n",
      "  [240 250 250]\n",
      "  [240 250 250]\n",
      "  ...\n",
      "  [240 250 250]\n",
      "  [240 250 250]\n",
      "  [240 250 250]]]\n"
     ]
    }
   ],
   "source": [
    "new_feature = []\n",
    "    \n",
    "for happy in fl2:\n",
    "    img = cv2.imread(happy)\n",
    "    width = 96\n",
    "    height = 96\n",
    "    dim = (width, height)\n",
    "    resized = cv2.resize(img, dim, interpolation = cv2.INTER_AREA)\n",
    "    new_feature.append(resized)\n",
    "\n",
    "print(new_feature[4])"
   ]
  },
  {
   "cell_type": "code",
   "execution_count": 63,
   "metadata": {},
   "outputs": [],
   "source": [
    "x_img_new = numpy.array(new_feature)\n",
    "y_label_new = numpy.array(ll2).reshape(5,)"
   ]
  },
  {
   "cell_type": "code",
   "execution_count": 64,
   "metadata": {},
   "outputs": [],
   "source": [
    "x_img_new_normalize = x_img_new.astype('float32') / 255.0"
   ]
  },
  {
   "cell_type": "code",
   "execution_count": 65,
   "metadata": {},
   "outputs": [],
   "source": [
    "prediction1 = model.predict_classes(x_img_new_normalize)"
   ]
  },
  {
   "cell_type": "code",
   "execution_count": 98,
   "metadata": {},
   "outputs": [
    {
     "name": "stdout",
     "output_type": "stream",
     "text": [
      "{0: 'apple', 1: 'banana', 2: 'mango', 3: 'orange', 4: 'strawberry'}\n"
     ]
    }
   ],
   "source": [
    "label_dict={0:\"apple\",1:\"banana\",2:\"mango\",3:\"orange\",4:\"strawberry\"}\n",
    "print(label_dict)"
   ]
  },
  {
   "cell_type": "code",
   "execution_count": 103,
   "metadata": {},
   "outputs": [],
   "source": [
    "y_label_new = y_label_new.reshape(5,1)"
   ]
  },
  {
   "cell_type": "code",
   "execution_count": 104,
   "metadata": {},
   "outputs": [
    {
     "data": {
      "text/plain": [
       "array([[0],\n",
       "       [1],\n",
       "       [2],\n",
       "       [3],\n",
       "       [4]])"
      ]
     },
     "execution_count": 104,
     "metadata": {},
     "output_type": "execute_result"
    }
   ],
   "source": [
    "y_label_new"
   ]
  },
  {
   "cell_type": "code",
   "execution_count": 107,
   "metadata": {},
   "outputs": [],
   "source": [
    "import matplotlib.pyplot as plt\n",
    "def plot_images_labels_prediction(images, labels, prediction,\n",
    "                                  idx, num=10):\n",
    "    fig = plt.gcf()\n",
    "    fig.set_size_inches(12, 14)\n",
    "    if num>25: num=25 \n",
    "    for i in range(0, num):\n",
    "        ax=plt.subplot(5, 5, 1+i)\n",
    "        ax.imshow(images[idx],cmap='binary')\n",
    "                \n",
    "        title=str(i)+'~'+label_dict[labels[i][0]]\n",
    "        if len(prediction)>0:\n",
    "            title+='=>'+label_dict[prediction[i]]\n",
    "            \n",
    "        ax.set_title(title,fontsize=10) \n",
    "        ax.set_xticks([]); ax.set_yticks([])        \n",
    "        idx+=1 \n",
    "    plt.show()"
   ]
  },
  {
   "cell_type": "code",
   "execution_count": 111,
   "metadata": {},
   "outputs": [
    {
     "data": {
      "image/png": "[encoded data removed]",
      "text/plain": [
       "<Figure size 864x1008 with 5 Axes>"
      ]
     },
     "metadata": {},
     "output_type": "display_data"
    }
   ],
   "source": [
    "plot_images_labels_prediction(x_img_new,y_label_new,\n",
    "                              prediction1,0,5)"
   ]
  },
  {
   "cell_type": "markdown",
   "metadata": {},
   "source": [
    "Classification (10%): 5 new images are imported to test the prediction function of the machine learning model. Out of 5 predictions, the new apple, mango and orange pictures are predicted correctly while the new banana and strawberry pictures are predicted incorrectly. "
   ]
  },
  {
   "cell_type": "code",
   "execution_count": 112,
   "metadata": {},
   "outputs": [
    {
     "data": {
      "text/plain": [
       "0"
      ]
     },
     "execution_count": 112,
     "metadata": {},
     "output_type": "execute_result"
    }
   ],
   "source": [
    "prediction1[0]"
   ]
  },
  {
   "cell_type": "code",
   "execution_count": 113,
   "metadata": {},
   "outputs": [
    {
     "data": {
      "text/plain": [
       "0"
      ]
     },
     "execution_count": 113,
     "metadata": {},
     "output_type": "execute_result"
    }
   ],
   "source": [
    "prediction1[1]"
   ]
  },
  {
   "cell_type": "code",
   "execution_count": 114,
   "metadata": {},
   "outputs": [
    {
     "data": {
      "text/plain": [
       "2"
      ]
     },
     "execution_count": 114,
     "metadata": {},
     "output_type": "execute_result"
    }
   ],
   "source": [
    "prediction1[2]"
   ]
  },
  {
   "cell_type": "code",
   "execution_count": 115,
   "metadata": {},
   "outputs": [
    {
     "data": {
      "text/plain": [
       "3"
      ]
     },
     "execution_count": 115,
     "metadata": {},
     "output_type": "execute_result"
    }
   ],
   "source": [
    "prediction1[3]"
   ]
  },
  {
   "cell_type": "code",
   "execution_count": 116,
   "metadata": {},
   "outputs": [
    {
     "data": {
      "text/plain": [
       "0"
      ]
     },
     "execution_count": 116,
     "metadata": {},
     "output_type": "execute_result"
    }
   ],
   "source": [
    "prediction1[4]"
   ]
  },
  {
   "cell_type": "markdown",
   "metadata": {},
   "source": [
    "6.\tResults, findings and conclusion (20%): Overall, this machine learning model is not that effective in predicting new and existing pictures. It only has a accurately level of around 60%. It is because the compression of images during data processing and the setting up in the machine learnig process may affect the accuracy of the model. Further adjustment and trials may be applied to improve the accuracy of the model."
   ]
  },
  {
   "cell_type": "code",
   "execution_count": null,
   "metadata": {},
   "outputs": [],
   "source": []
  },
  {
   "cell_type": "code",
   "execution_count": null,
   "metadata": {},
   "outputs": [],
   "source": []
  }
 ],
 "metadata": {
  "kernelspec": {
   "display_name": "Python 3",
   "language": "python",
   "name": "python3"
  },
  "language_info": {
   "codemirror_mode": {
    "name": "ipython",
    "version": 3
   },
   "file_extension": ".py",
   "mimetype": "text/x-python",
   "name": "python",
   "nbconvert_exporter": "python",
   "pygments_lexer": "ipython3",
   "version": "3.7.6"
  }
 },
 "nbformat": 4,
 "nbformat_minor": 4
}
